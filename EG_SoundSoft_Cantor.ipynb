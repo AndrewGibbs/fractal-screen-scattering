{
 "cells": [
  {
   "cell_type": "code",
   "execution_count": null,
   "metadata": {},
   "outputs": [],
   "source": [
    "import bempp.api\n",
    "import numpy as np\n",
    "import fractalpp"
   ]
  },
  {
   "cell_type": "markdown",
   "metadata": {},
   "source": [
    "Set problem parameters, incident direction $d=\\frac{1}{\\sqrt{3}}[1,1,-1]$"
   ]
  },
  {
   "cell_type": "code",
   "execution_count": null,
   "metadata": {},
   "outputs": [],
   "source": [
    "prefractal_level = 3\n",
    "#inc wave params:\n",
    "kwave = 10\n",
    "#mesh parameter\n",
    "h = 2*np.pi/(5*kwave) # five wavelengths long\n",
    "inc_dir = np.sqrt(1/3)*np.array([1,1,-1])"
   ]
  },
  {
   "cell_type": "markdown",
   "metadata": {},
   "source": [
    "Construct the mesh on prefractal $\\Gamma_j$ where $j=$```prefractal_level```"
   ]
  },
  {
   "cell_type": "code",
   "execution_count": null,
   "metadata": {},
   "outputs": [],
   "source": [
    "cantor_mesh = fractalpp.mesh.cantor(prefractal_level, h_max = h)"
   ]
  },
  {
   "cell_type": "markdown",
   "metadata": {},
   "source": [
    "Other optional inputs, and their defaults, are as follows:\n",
    "```fractalpp.mesh.cantor(prefractal_level, h_max=np.Inf, M=0, middle=1/3)```\n",
    "\n",
    "* ```M``` determines is an integer which determines a fixed number of degrees of freedom per component. Only works when ```h_max``` isn't set.\n",
    "* ```middle``` corresponds to the middle component of each Cantor Set which is removed, the tensor product of which results in Cantor Dust"
   ]
  },
  {
   "cell_type": "code",
   "execution_count": null,
   "metadata": {},
   "outputs": [],
   "source": [
    "cantor_mesh.plot()"
   ]
  },
  {
   "cell_type": "markdown",
   "metadata": {},
   "source": [
    "Now solve the problem, using bempp with GMRES, and plot the solution:"
   ]
  },
  {
   "cell_type": "code",
   "execution_count": null,
   "metadata": {},
   "outputs": [],
   "source": [
    "%%capture\n",
    "# create incident wave\n",
    "uinc = fractalpp.solve.u_i(kwave,inc_dir)\n",
    "# solve impedance problem via BIE formulation\n",
    "sol = fractalpp.solve.dirichlet(cantor_mesh,uinc)"
   ]
  },
  {
   "cell_type": "code",
   "execution_count": null,
   "metadata": {},
   "outputs": [],
   "source": [
    "sol.neumann_jump.plot()"
   ]
  },
  {
   "cell_type": "code",
   "execution_count": null,
   "metadata": {},
   "outputs": [],
   "source": [
    "z_val = -0.3 # z value of square slice\n",
    "n_grid_points = 150\n",
    "plot_grid = np.mgrid[-1:1:n_grid_points*1j, -1:1:n_grid_points*1j]\n",
    "points = np.vstack((plot_grid[0].ravel(),\n",
    "                    plot_grid[1].ravel(),\n",
    "                    z_val*np.ones(plot_grid[0].size)))\n",
    "scattered_field_at_points = (sol.u_s(points)).reshape((n_grid_points,n_grid_points))\n",
    "%matplotlib inline\n",
    "from matplotlib import pylab as plt\n",
    "\n",
    "plt.imshow(np.abs(scattered_field_at_points), extent=(-1,1,-1,1))\n",
    "plt.title('Slice of scattered field')\n",
    "plt.colorbar()"
   ]
  },
  {
   "cell_type": "code",
   "execution_count": null,
   "metadata": {},
   "outputs": [],
   "source": []
  }
 ],
 "metadata": {
  "kernelspec": {
   "display_name": "bempp3",
   "language": "python",
   "name": "bempp3"
  },
  "language_info": {
   "codemirror_mode": {
    "name": "ipython",
    "version": 3
   },
   "file_extension": ".py",
   "mimetype": "text/x-python",
   "name": "python",
   "nbconvert_exporter": "python",
   "pygments_lexer": "ipython3",
   "version": "3.9.6"
  }
 },
 "nbformat": 4,
 "nbformat_minor": 4
}
