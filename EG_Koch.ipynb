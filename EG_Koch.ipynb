{
 "cells": [
  {
   "cell_type": "code",
   "execution_count": null,
   "metadata": {},
   "outputs": [],
   "source": [
    "import bempp.api\n",
    "import numpy as np\n",
    "import fractalpp"
   ]
  },
  {
   "cell_type": "markdown",
   "metadata": {},
   "source": [
    "Set problem parameters:"
   ]
  },
  {
   "cell_type": "code",
   "execution_count": null,
   "metadata": {},
   "outputs": [],
   "source": [
    "prefractal_level = 3\n",
    "#inc wave params:\n",
    "kwave = 10\n",
    "#mesh parameter\n",
    "h = 2*np.pi/(10*kwave) # ten wavelengths long\n",
    "inc_dir = np.sqrt(1/3)*np.array([1,1,-1])"
   ]
  },
  {
   "cell_type": "markdown",
   "metadata": {},
   "source": [
    "Now create the mesh using ```fractalpp.mesh.koch```\n",
    "We are including the optional parameter ```h_max```, which will keep subdividing until all elements are less than this diameter. Other optional paramteres, and their defaults, are:\n",
    "```h_max=math.inf, scale = 1, apex_angle = math.pi/3, shift = np.array([0,0]), mid_refine=True```\n",
    "The final one of these avoivds refinement in the centre of the fractal, and only refines close to the edges."
   ]
  },
  {
   "cell_type": "code",
   "execution_count": null,
   "metadata": {},
   "outputs": [],
   "source": [
    "koch_mesh = fractalpp.mesh.koch(prefractal_level,h_max = h)"
   ]
  },
  {
   "cell_type": "markdown",
   "metadata": {},
   "source": [
    "Now plot the mesh. When ```prefractal_level``` is high, I would advise not running the below cell of code, as the plot function will takes ages and it's not necessary."
   ]
  },
  {
   "cell_type": "code",
   "execution_count": null,
   "metadata": {},
   "outputs": [],
   "source": [
    "koch_mesh.plot()"
   ]
  },
  {
   "cell_type": "markdown",
   "metadata": {},
   "source": [
    "Now make a function for plotting slices in this notebook, which we can use for each BC. We can also obtain our approximation to $u^s(x)\\approx\\mathcal{D}\\phi(x) - \\mathcal{S}\\psi(x)$. The next few cells of code plot the solution in a slice $[-1,1]\\times[-1,1]\\times\\{z\\}\\subset\\mathbb{R}^3$ for some $z$."
   ]
  },
  {
   "cell_type": "code",
   "execution_count": null,
   "metadata": {},
   "outputs": [],
   "source": [
    "def slice(u_s,z_val = -0.3):\n",
    "    # z_val is the z value of square slice\n",
    "    n_grid_points = 150\n",
    "    plot_grid = np.mgrid[-1:1:n_grid_points*1j, -1:1:n_grid_points*1j]\n",
    "    points = np.vstack((plot_grid[0].ravel(),\n",
    "                        plot_grid[1].ravel(),\n",
    "                        z_val*np.ones(plot_grid[0].size)))\n",
    "    scattered_field_at_points = (u_s(points)).reshape((n_grid_points,n_grid_points))\n",
    "    %matplotlib inline\n",
    "    from matplotlib import pylab as plt\n",
    "\n",
    "    plt.imshow(np.abs(scattered_field_at_points), extent=(-1,1,-1,1))\n",
    "    plt.title('Slice of scattered field')\n",
    "    plt.colorbar()"
   ]
  },
  {
   "cell_type": "markdown",
   "metadata": {},
   "source": [
    "## Sound-soft problem"
   ]
  },
  {
   "cell_type": "code",
   "execution_count": null,
   "metadata": {},
   "outputs": [],
   "source": [
    "%%capture\n",
    "# create incident wave\n",
    "uinc = fractalpp.solve.u_i(kwave,inc_dir)\n",
    "# solve impedance problem via BIE formulation\n",
    "sol = fractalpp.solve.dirichlet(koch_mesh,uinc)"
   ]
  },
  {
   "cell_type": "code",
   "execution_count": null,
   "metadata": {},
   "outputs": [],
   "source": [
    "sol.neumann_jump.plot()"
   ]
  },
  {
   "cell_type": "code",
   "execution_count": null,
   "metadata": {},
   "outputs": [],
   "source": [
    "slice(sol.u_s)"
   ]
  },
  {
   "cell_type": "markdown",
   "metadata": {},
   "source": [
    "## Impedance problem\n",
    "Now solve the impedance problem on the mesh, using our new impedance BIE."
   ]
  },
  {
   "cell_type": "code",
   "execution_count": null,
   "metadata": {},
   "outputs": [],
   "source": [
    "#impedance parameters:\n",
    "lambda_plus = kwave*(1.5+1.5j)\n",
    "lambda_minus = kwave*(1+1j)"
   ]
  },
  {
   "cell_type": "code",
   "execution_count": null,
   "metadata": {},
   "outputs": [],
   "source": [
    "%%capture\n",
    "# create incident wave\n",
    "uinc = fractalpp.solve.u_i(kwave,inc_dir)\n",
    "# solve impedance problem via BIE formulation\n",
    "imp_sol = fractalpp.solve.impedance(koch_mesh,uinc,lambda_plus,lambda_minus)"
   ]
  },
  {
   "cell_type": "markdown",
   "metadata": {},
   "source": [
    "The above ```fractalpp.solve.impedance``` has the optional parameter ```Hassen=False```, which if set to ```True``` will implement the BIE from the Hassen et al paper, which is not well-posed for $\\lambda_-+\\lambda_+$=0.\n",
    "\n",
    "From the ```imp_sol``` object we have created, we can access the components of the solution $\\left(\\phi,\\psi\\right) \\approx \\left([u],[\\partial_nu]\\right)$, via ```imp_sol.Dirichlet_jump```\n",
    "and ```imp_sol.Neumann_jump```. For example, we can run the following to get a surface plot:"
   ]
  },
  {
   "cell_type": "code",
   "execution_count": null,
   "metadata": {},
   "outputs": [],
   "source": [
    "imp_sol.Dirichlet_jump.plot()"
   ]
  },
  {
   "cell_type": "code",
   "execution_count": null,
   "metadata": {},
   "outputs": [],
   "source": [
    "imp_sol.Neumann_jump.plot()"
   ]
  },
  {
   "cell_type": "code",
   "execution_count": null,
   "metadata": {},
   "outputs": [],
   "source": [
    "slice(imp_sol.u_s,z_val=0.1)"
   ]
  }
 ],
 "metadata": {
  "kernelspec": {
   "display_name": "bempp3",
   "language": "python",
   "name": "bempp3"
  },
  "language_info": {
   "codemirror_mode": {
    "name": "ipython",
    "version": 3
   },
   "file_extension": ".py",
   "mimetype": "text/x-python",
   "name": "python",
   "nbconvert_exporter": "python",
   "pygments_lexer": "ipython3",
   "version": "3.9.6"
  }
 },
 "nbformat": 4,
 "nbformat_minor": 4
}
